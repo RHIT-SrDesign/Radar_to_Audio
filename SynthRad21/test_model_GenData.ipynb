{
 "cells": [
  {
   "cell_type": "code",
   "execution_count": 65,
   "metadata": {},
   "outputs": [],
   "source": [
    "import numpy as np\n",
    "import pandas as pd\n",
    "import tensorflow as tf\n",
    "import matplotlib.pyplot as plt\n",
    "from sklearn.metrics import confusion_matrix\n",
    "\n",
    "from tensorflow.keras.models import load_model\n",
    "from tensorflow.keras.utils import to_categorical"
   ]
  },
  {
   "cell_type": "code",
   "execution_count": 66,
   "metadata": {},
   "outputs": [],
   "source": [
    "model_modtype = load_model('temp/checkpoint/modtype_2.h5')\n",
    "model_freqagility = load_model('temp/checkpoint/freq_agility_2.h5')\n",
    "model_pwagility = load_model('temp/checkpoint/pw_agility_2.h5')\n",
    "model_priagility = load_model('temp/checkpoint/pri_agility_2.h5')\n",
    "model_pw = load_model('temp/checkpoint/pw_2.h5')\n",
    "model_pri = load_model('temp/checkpoint/pri_2.h5')"
   ]
  },
  {
   "cell_type": "code",
   "execution_count": 67,
   "metadata": {},
   "outputs": [],
   "source": [
    "data = np.load('training_data/gendata_test_2500_0.npy')\n",
    "labels = np.load('training_data/gendata_test_2500_labels_0.npy')"
   ]
  },
  {
   "cell_type": "code",
   "execution_count": 68,
   "metadata": {},
   "outputs": [],
   "source": [
    "x = data\n",
    "y_emitter = labels[:,0]\n",
    "y_emitter=y_emitter.astype(int)\n",
    "\n",
    "leny=len(y_emitter)\n",
    "\n",
    "\n",
    "y_modtype = labels[:,0]\n",
    "y_freqagility = labels[:,1]\n",
    "y_pwagility = labels[:,2]\n",
    "y_priagility = labels[:,3]\n",
    "y_pwmin = labels[:,4]\n",
    "y_pwmax = labels[:,5]\n",
    "y_primin = labels[:,6]\n",
    "y_primax = labels[:,7]\n",
    "\n"
   ]
  },
  {
   "cell_type": "code",
   "execution_count": 69,
   "metadata": {},
   "outputs": [
    {
     "name": "stdout",
     "output_type": "stream",
     "text": [
      "79/79 [==============================] - 1s 9ms/step\n",
      "452 testing mistakes of 2500 total predictions\n",
      "test error rate 0.181\n",
      "Accuracy 0.819\n"
     ]
    }
   ],
   "source": [
    "yh_modtype = model_modtype.predict(x).argmax(1)\n",
    "\n",
    "ix = (y_modtype != yh_modtype)\n",
    "print(ix.sum(),'testing mistakes of',len(ix),'total predictions')\n",
    "print('test error rate',round(ix.sum()/len(ix),3))\n",
    "print('Accuracy', round(1-ix.sum()/len(ix),3))"
   ]
  },
  {
   "cell_type": "code",
   "execution_count": 70,
   "metadata": {},
   "outputs": [
    {
     "name": "stdout",
     "output_type": "stream",
     "text": [
      "79/79 [==============================] - 1s 6ms/step\n",
      "346 testing mistakes of 2500 total predictions\n",
      "test error rate 0.138\n",
      "Accuracy 0.862\n"
     ]
    }
   ],
   "source": [
    "yh_freqagility = model_freqagility.predict(x).argmax(1)\n",
    "\n",
    "ix = (y_freqagility != yh_freqagility)\n",
    "print(ix.sum(),'testing mistakes of',len(ix),'total predictions')\n",
    "print('test error rate',round(ix.sum()/len(ix),3))\n",
    "print('Accuracy', round(1-ix.sum()/len(ix),3))"
   ]
  },
  {
   "cell_type": "code",
   "execution_count": 71,
   "metadata": {},
   "outputs": [
    {
     "name": "stdout",
     "output_type": "stream",
     "text": [
      "79/79 [==============================] - 1s 5ms/step\n",
      "1245 testing mistakes of 2500 total predictions\n",
      "test error rate 0.498\n",
      "Accuracy 0.502\n"
     ]
    }
   ],
   "source": [
    "yh_pwagility = model_pwagility.predict(x).argmax(1)\n",
    "\n",
    "ix = (y_pwagility != yh_pwagility)\n",
    "print(ix.sum(),'testing mistakes of',len(ix),'total predictions')\n",
    "print('test error rate',round(ix.sum()/len(ix),3))\n",
    "print('Accuracy', round(1-ix.sum()/len(ix),3))"
   ]
  },
  {
   "cell_type": "code",
   "execution_count": 72,
   "metadata": {},
   "outputs": [
    {
     "name": "stdout",
     "output_type": "stream",
     "text": [
      "79/79 [==============================] - 1s 8ms/step\n",
      "217 testing mistakes of 2500 total predictions\n",
      "test error rate 0.087\n",
      "Accuracy 0.913\n"
     ]
    }
   ],
   "source": [
    "yh_priagility = model_priagility.predict(x).argmax(1)\n",
    "\n",
    "ix = (y_priagility != yh_priagility)\n",
    "print(ix.sum(),'testing mistakes of',len(ix),'total predictions')\n",
    "print('test error rate',round(ix.sum()/len(ix),3))\n",
    "print('Accuracy', round(1-ix.sum()/len(ix),3))"
   ]
  },
  {
   "cell_type": "code",
   "execution_count": 73,
   "metadata": {},
   "outputs": [
    {
     "name": "stdout",
     "output_type": "stream",
     "text": [
      "79/79 [==============================] - 1s 5ms/step\n",
      "rmse pwmin: 0.06408959104109149 rmse pwmax: 68.90336223086031\n",
      "percent err pwmin: 224.20537960443724 percent err pwmax: 224.20537960443724\n",
      "[-0.00497407  0.02178133  0.00374448 ... -0.0060656   0.02111439\n",
      "  0.00694381]\n",
      "[-0.01407524  0.20413345 -0.0091304  ... -0.01768857  0.10505135\n",
      " -0.00644034]\n",
      "0.0019078819379954061\n"
     ]
    }
   ],
   "source": [
    "b_pwmin=15.286275640628888\n",
    "m_pwmin=805.2782390280091\n",
    "b_pwmax=25.039697983513843\n",
    "m_pwmax=795.5248166851242\n",
    "\n",
    "yh_pw = model_pw.predict(x)\n",
    "yh_pwmin = yh_pw[:,0]#m_pwmin*yh_pw[:,0]+b_pwmin\n",
    "yh_pwmax = m_pwmax*yh_pw[:,1]+b_pwmax\n",
    "y_pwmin=(y_pwmin-b_pwmin)/m_pwmin\n",
    "rmse_pwmin=np.sqrt(np.mean((y_pwmin-yh_pwmin)**2))\n",
    "rmse_pwmax=np.sqrt(np.mean((y_pwmax-yh_pwmax)**2))\n",
    "pcnterr_pwmin=np.mean(abs((y_pwmin-yh_pwmin)/y_pwmin))\n",
    "pcnterr_pwmax=np.mean(abs((y_pwmin-yh_pwmin)/y_pwmin))\n",
    "print('rmse pwmin:',rmse_pwmin,'rmse pwmax:',rmse_pwmax)\n",
    "print('percent err pwmin:',pcnterr_pwmin*100,'percent err pwmax:',pcnterr_pwmax*100)\n",
    "print(yh_pwmin)\n",
    "print(y_pwmin)\n",
    "print(np.mean(y_pwmin))"
   ]
  },
  {
   "cell_type": "code",
   "execution_count": 74,
   "metadata": {},
   "outputs": [
    {
     "data": {
      "text/plain": [
       "array([0.64660859, 0.89329856, 1.41011162, ..., 0.65708939, 0.79900883,\n",
       "       2.07817384])"
      ]
     },
     "execution_count": 74,
     "metadata": {},
     "output_type": "execute_result"
    }
   ],
   "source": [
    "pcnterr=abs((y_pwmin-yh_pwmin)/y_pwmin)\n",
    "pcnterr"
   ]
  },
  {
   "cell_type": "code",
   "execution_count": 75,
   "metadata": {},
   "outputs": [
    {
     "name": "stdout",
     "output_type": "stream",
     "text": [
      "79/79 [==============================] - 1s 7ms/step\n",
      "rmse primin: 267.7482524157034 rmse primax: 385.37310083258166\n",
      "percent err primin: 100.0605167517622 percent err primax: 100.0605167517622\n"
     ]
    }
   ],
   "source": [
    "b_primin=15.286275640628888\n",
    "m_primin=805.2782390280091\n",
    "b_primax=25.039697983513843\n",
    "m_primax=795.5248166851242\n",
    "\n",
    "yh_pri = model_pri.predict(x)\n",
    "yh_primin = m_pwmin*yh_pri[:,0]+b_primin\n",
    "yh_primax = m_primax*yh_pri[:,1]+b_primax\n",
    "\n",
    "rmse_primin=np.sqrt(np.mean((y_primin-yh_primin)**2))\n",
    "rmse_primax=np.sqrt(np.mean((y_primax-yh_primax)**2))\n",
    "pcnterr_primin=np.mean(abs((y_primin-yh_pwmin)/y_primin))\n",
    "pcnterr_primax=np.mean(abs((y_primin-yh_pwmin)/y_primin))\n",
    "print('rmse primin:',rmse_primin,'rmse primax:',rmse_primax)\n",
    "print('percent err primin:',pcnterr_primin*100,'percent err primax:',pcnterr_primax*100)"
   ]
  },
  {
   "cell_type": "code",
   "execution_count": 76,
   "metadata": {},
   "outputs": [
    {
     "ename": "NameError",
     "evalue": "name 'model' is not defined",
     "output_type": "error",
     "traceback": [
      "\u001b[0;31m---------------------------------------------------------------------------\u001b[0m",
      "\u001b[0;31mNameError\u001b[0m                                 Traceback (most recent call last)",
      "Cell \u001b[0;32mIn[76], line 2\u001b[0m\n\u001b[1;32m      1\u001b[0m \u001b[38;5;66;03m# Categorical Prediction\u001b[39;00m\n\u001b[0;32m----> 2\u001b[0m yh \u001b[38;5;241m=\u001b[39m \u001b[43mmodel\u001b[49m\u001b[38;5;241m.\u001b[39mpredict(x)\u001b[38;5;241m.\u001b[39margmax(\u001b[38;5;241m1\u001b[39m)\n\u001b[1;32m      3\u001b[0m prediction \u001b[38;5;241m=\u001b[39m pd\u001b[38;5;241m.\u001b[39mDataFrame()\n\u001b[1;32m      4\u001b[0m prediction[\u001b[38;5;124m'\u001b[39m\u001b[38;5;124myh\u001b[39m\u001b[38;5;124m'\u001b[39m] \u001b[38;5;241m=\u001b[39m yh\n",
      "\u001b[0;31mNameError\u001b[0m: name 'model' is not defined"
     ]
    }
   ],
   "source": [
    "# Categorical Prediction\n",
    "yh = model.predict(x).argmax(1)\n",
    "prediction = pd.DataFrame()\n",
    "prediction['yh'] = yh\n",
    "prediction['y'] = y\n",
    "ix = (prediction.y != prediction.yh)\n",
    "print(ix.sum(),'testing mistakes of',len(ix),'total predictions')\n",
    "print('test error rate',round(ix.sum()/len(ix),3))\n",
    "print('Accuracy', round(1-ix.sum()/len(ix),3))"
   ]
  },
  {
   "cell_type": "code",
   "execution_count": null,
   "metadata": {},
   "outputs": [],
   "source": [
    "# # Numerical prediction\n",
    "# yh = model.predict(x)\n",
    "# prediction = pd.DataFrame()\n",
    "# prediction['pw_pred'] = yh[:,0]\n",
    "# prediction['pri_pred'] = yh[:,1]\n",
    "# prediction['pw'] = y[:,0]\n",
    "# prediction['pri'] = y[:,1]"
   ]
  },
  {
   "cell_type": "code",
   "execution_count": null,
   "metadata": {},
   "outputs": [],
   "source": [
    "# prediction.head()"
   ]
  },
  {
   "cell_type": "code",
   "execution_count": null,
   "metadata": {},
   "outputs": [
    {
     "ename": "NameError",
     "evalue": "name 'y' is not defined",
     "output_type": "error",
     "traceback": [
      "\u001b[0;31m---------------------------------------------------------------------------\u001b[0m",
      "\u001b[0;31mNameError\u001b[0m                                 Traceback (most recent call last)",
      "Cell \u001b[0;32mIn[28], line 1\u001b[0m\n\u001b[0;32m----> 1\u001b[0m cm \u001b[38;5;241m=\u001b[39m confusion_matrix(\u001b[43my\u001b[49m, yh)\n\u001b[1;32m      2\u001b[0m plt\u001b[38;5;241m.\u001b[39mmatshow(cm)\n\u001b[1;32m      3\u001b[0m plt\u001b[38;5;241m.\u001b[39mshow()\n",
      "\u001b[0;31mNameError\u001b[0m: name 'y' is not defined"
     ]
    }
   ],
   "source": [
    "cm = confusion_matrix(y, yh)\n",
    "plt.matshow(cm)\n",
    "plt.show()"
   ]
  },
  {
   "cell_type": "code",
   "execution_count": null,
   "metadata": {},
   "outputs": [
    {
     "data": {
      "image/png": "[encoded data removed]",
      "text/plain": [
       "<Figure size 500x500 with 2 Axes>"
      ]
     },
     "metadata": {},
     "output_type": "display_data"
    }
   ],
   "source": [
    "cm = confusion_matrix(y, yh)\n",
    "\n",
    "fig = plt.figure(figsize=(5,5))\n",
    "ax = fig.add_subplot(111)\n",
    "cax = ax.matshow(cm, interpolation='nearest')\n",
    "fig.colorbar(cax)\n",
    "plt.xticks(rotation=90, ha='center')\n",
    "plt.xticks(np.arange(0, max(y)+1, 1.0))\n",
    "plt.yticks(np.arange(0, max(y)+1, 1.0))\n",
    "ax.set_xticklabels(label_names)\n",
    "ax.set_yticklabels(label_names)\n",
    "\n",
    "\n",
    "for (i, j), z in np.ndenumerate(cm):\n",
    "    ax.text(j, i, '{:0.1f}'.format(z), ha='center', va='center')\n",
    "\n",
    "plt.show()"
   ]
  },
  {
   "cell_type": "code",
   "execution_count": null,
   "metadata": {},
   "outputs": [],
   "source": []
  }
 ],
 "metadata": {
  "kernelspec": {
   "display_name": "Python 3",
   "language": "python",
   "name": "python3"
  },
  "language_info": {
   "codemirror_mode": {
    "name": "ipython",
    "version": 3
   },
   "file_extension": ".py",
   "mimetype": "text/x-python",
   "name": "python",
   "nbconvert_exporter": "python",
   "pygments_lexer": "ipython3",
   "version": "3.10.12"
  },
  "orig_nbformat": 4
 },
 "nbformat": 4,
 "nbformat_minor": 2
}
