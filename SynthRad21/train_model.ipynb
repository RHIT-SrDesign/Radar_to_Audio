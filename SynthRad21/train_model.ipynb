{
 "cells": [
  {
   "cell_type": "code",
   "execution_count": 15,
   "metadata": {},
   "outputs": [],
   "source": [
    "# TODO Turn this into a .py file so that the client can run it."
   ]
  },
  {
   "cell_type": "code",
   "execution_count": 16,
   "metadata": {},
   "outputs": [],
   "source": [
    "import tensorflow as tf\n",
    "import numpy as np\n",
    "import os\n",
    "from tensorflow.keras.models import Sequential, load_model\n",
    "from tensorflow.keras.layers import Conv1D, MaxPooling1D, Dense, Flatten\n",
    "from tensorflow.keras.optimizers import Adam\n",
    "from tensorflow.keras.callbacks import ModelCheckpoint, EarlyStopping, TensorBoard"
   ]
  },
  {
   "cell_type": "code",
   "execution_count": null,
   "metadata": {},
   "outputs": [],
   "source": []
  },
  {
   "cell_type": "code",
   "execution_count": 17,
   "metadata": {},
   "outputs": [],
   "source": [
    "# Be a good neighbor. Let other people use the GPU too. \n",
    "# print(tf.config.list_physical_devices('GPU'))\n",
    "# gpus = tf.config.experimental.list_physical_devices('GPU')\n",
    "# for gpu in gpus:\n",
    "#     tf.config.experimental.set_memory_growth(gpu, True)"
   ]
  },
  {
   "cell_type": "code",
   "execution_count": 18,
   "metadata": {},
   "outputs": [],
   "source": [
    "# Load up the training data\n",
    "data_file_location = 'training_data/'\n",
    "data_file_name = 'data04_2500_train.npy'\n",
    "label_file_name = 'labels04_2500_train.npy'\n",
    "\n",
    "checkpoint_filepath = 'temp/checkpoint/convnet05.h5'\n",
    "log_filepath = 'temp/tb_logs'\n",
    "\n",
    "data = np.load(data_file_location+data_file_name)\n",
    "labels = np.load(data_file_location+label_file_name)"
   ]
  },
  {
   "cell_type": "code",
   "execution_count": 19,
   "metadata": {},
   "outputs": [],
   "source": [
    "x = data\n",
    "y = labels[:,0]"
   ]
  },
  {
   "cell_type": "code",
   "execution_count": 20,
   "metadata": {},
   "outputs": [],
   "source": [
    "def build_model(input_shape,output_size):\n",
    "    model = Sequential()\n",
    "    model.add(Conv1D(10, kernel_size=5, padding='same', input_shape=input_shape, activation='relu'))\n",
    "    model.add(MaxPooling1D(pool_size=2, strides=2))\n",
    "    model.add(Conv1D(20, kernel_size=5, padding='same', activation='relu'))\n",
    "    model.add(MaxPooling1D(pool_size=2, strides=2))\n",
    "    model.add(Conv1D(30, kernel_size=5, padding='same', activation='relu'))\n",
    "    model.add(MaxPooling1D(pool_size=2, strides=2))\n",
    "    model.add(Conv1D(40, kernel_size=5, padding='same', activation='relu'))\n",
    "    model.add(MaxPooling1D(pool_size=2, strides=2))\n",
    "    model.add(Conv1D(50, kernel_size=5, padding='same', activation='relu'))\n",
    "    model.add(MaxPooling1D(pool_size=2, strides=2))\n",
    "    model.add(Conv1D(60, kernel_size=3, padding='same', activation='relu'))\n",
    "    model.add(MaxPooling1D(pool_size=2, strides=2))\n",
    "    model.add(Conv1D(70, kernel_size=3, padding='same', activation='relu'))\n",
    "    model.add(MaxPooling1D(pool_size=2, strides=2))\n",
    "    model.add(Conv1D(80, kernel_size=3, padding='same', activation='relu'))\n",
    "    model.add(MaxPooling1D(pool_size=2, strides=2))\n",
    "    model.add(Conv1D(90, kernel_size=3, padding='same', activation='relu'))\n",
    "    model.add(MaxPooling1D(pool_size=2, strides=2))\n",
    "    model.add(Flatten())\n",
    "    model.add(Dense(200, activation='relu'))\n",
    "    model.add(Dense(output_size, activation='softmax'))\n",
    "    return model\n",
    "    "
   ]
  },
  {
   "cell_type": "code",
   "execution_count": 21,
   "metadata": {},
   "outputs": [],
   "source": [
    "def build_simple_model(input_shape, output_size):\n",
    "    model = Sequential()\n",
    "    model.add(Conv1D(1, kernel_size=3, padding='same', input_shape=input_shape, activation='relu'))\n",
    "    model.add(Flatten())\n",
    "    model.add(Dense(output_size, activation='softmax'))\n",
    "    return model"
   ]
  },
  {
   "cell_type": "code",
   "execution_count": 22,
   "metadata": {},
   "outputs": [
    {
     "name": "stdout",
     "output_type": "stream",
     "text": [
      "Model: \"sequential_1\"\n",
      "_________________________________________________________________\n",
      " Layer (type)                Output Shape              Param #   \n",
      "=================================================================\n",
      " conv1d_9 (Conv1D)           (None, 1024, 10)          210       \n",
      "                                                                 \n",
      " max_pooling1d_9 (MaxPoolin  (None, 512, 10)           0         \n",
      " g1D)                                                            \n",
      "                                                                 \n",
      " conv1d_10 (Conv1D)          (None, 512, 20)           1020      \n",
      "                                                                 \n",
      " max_pooling1d_10 (MaxPooli  (None, 256, 20)           0         \n",
      " ng1D)                                                           \n",
      "                                                                 \n",
      " conv1d_11 (Conv1D)          (None, 256, 30)           3030      \n",
      "                                                                 \n",
      " max_pooling1d_11 (MaxPooli  (None, 128, 30)           0         \n",
      " ng1D)                                                           \n",
      "                                                                 \n",
      " conv1d_12 (Conv1D)          (None, 128, 40)           6040      \n",
      "                                                                 \n",
      " max_pooling1d_12 (MaxPooli  (None, 64, 40)            0         \n",
      " ng1D)                                                           \n",
      "                                                                 \n",
      " conv1d_13 (Conv1D)          (None, 64, 50)            10050     \n",
      "                                                                 \n",
      " max_pooling1d_13 (MaxPooli  (None, 32, 50)            0         \n",
      " ng1D)                                                           \n",
      "                                                                 \n",
      " conv1d_14 (Conv1D)          (None, 32, 60)            9060      \n",
      "                                                                 \n",
      " max_pooling1d_14 (MaxPooli  (None, 16, 60)            0         \n",
      " ng1D)                                                           \n",
      "                                                                 \n",
      " conv1d_15 (Conv1D)          (None, 16, 70)            12670     \n",
      "                                                                 \n",
      " max_pooling1d_15 (MaxPooli  (None, 8, 70)             0         \n",
      " ng1D)                                                           \n",
      "                                                                 \n",
      " conv1d_16 (Conv1D)          (None, 8, 80)             16880     \n",
      "                                                                 \n",
      " max_pooling1d_16 (MaxPooli  (None, 4, 80)             0         \n",
      " ng1D)                                                           \n",
      "                                                                 \n",
      " conv1d_17 (Conv1D)          (None, 4, 90)             21690     \n",
      "                                                                 \n",
      " max_pooling1d_17 (MaxPooli  (None, 2, 90)             0         \n",
      " ng1D)                                                           \n",
      "                                                                 \n",
      " flatten_1 (Flatten)         (None, 180)               0         \n",
      "                                                                 \n",
      " dense_2 (Dense)             (None, 200)               36200     \n",
      "                                                                 \n",
      " dense_3 (Dense)             (None, 25)                5025      \n",
      "                                                                 \n",
      "=================================================================\n",
      "Total params: 121875 (476.07 KB)\n",
      "Trainable params: 121875 (476.07 KB)\n",
      "Non-trainable params: 0 (0.00 Byte)\n",
      "_________________________________________________________________\n"
     ]
    }
   ],
   "source": [
    "model = build_model(input_shape=(1024,4),output_size=25)\n",
    "model.summary()"
   ]
  },
  {
   "cell_type": "code",
   "execution_count": 23,
   "metadata": {},
   "outputs": [],
   "source": [
    "# Compile the model\n",
    "model.compile(loss='sparse_categorical_crossentropy', optimizer='Adam', metrics=['accuracy'])"
   ]
  },
  {
   "cell_type": "code",
   "execution_count": 24,
   "metadata": {},
   "outputs": [],
   "source": [
    "# Setup the callbacks\n",
    "checkpt = ModelCheckpoint(checkpoint_filepath, save_best_only=True, verbose=0)\n",
    "tb = TensorBoard(log_dir=log_filepath)\n",
    "e_stop = EarlyStopping(patience=5)"
   ]
  },
  {
   "cell_type": "code",
   "execution_count": 25,
   "metadata": {},
   "outputs": [
    {
     "name": "stdout",
     "output_type": "stream",
     "text": [
      "Epoch 1/100\n",
      "200/200 - 5s - loss: 3.2113 - accuracy: 0.0450 - val_loss: 3.1543 - val_accuracy: 0.0560 - 5s/epoch - 27ms/step\n",
      "Epoch 2/100\n"
     ]
    },
    {
     "name": "stderr",
     "output_type": "stream",
     "text": [
      "/home/thomas/.local/lib/python3.10/site-packages/keras/src/engine/training.py:3079: UserWarning: You are saving your model as an HDF5 file via `model.save()`. This file format is considered legacy. We recommend using instead the native Keras format, e.g. `model.save('my_model.keras')`.\n",
      "  saving_api.save_model(\n"
     ]
    },
    {
     "name": "stdout",
     "output_type": "stream",
     "text": [
      "200/200 - 3s - loss: 3.0944 - accuracy: 0.0745 - val_loss: 2.9921 - val_accuracy: 0.0820 - 3s/epoch - 15ms/step\n",
      "Epoch 3/100\n",
      "200/200 - 3s - loss: 2.7293 - accuracy: 0.1430 - val_loss: 2.2932 - val_accuracy: 0.2040 - 3s/epoch - 15ms/step\n",
      "Epoch 4/100\n",
      "200/200 - 3s - loss: 1.9699 - accuracy: 0.3195 - val_loss: 1.8611 - val_accuracy: 0.3380 - 3s/epoch - 15ms/step\n",
      "Epoch 5/100\n",
      "200/200 - 2s - loss: 1.6436 - accuracy: 0.3895 - val_loss: 1.8941 - val_accuracy: 0.3520 - 2s/epoch - 12ms/step\n",
      "Epoch 6/100\n",
      "200/200 - 3s - loss: 1.5183 - accuracy: 0.4335 - val_loss: 1.5399 - val_accuracy: 0.3900 - 3s/epoch - 13ms/step\n",
      "Epoch 7/100\n",
      "200/200 - 3s - loss: 1.3509 - accuracy: 0.4895 - val_loss: 1.4913 - val_accuracy: 0.4360 - 3s/epoch - 15ms/step\n",
      "Epoch 8/100\n",
      "200/200 - 3s - loss: 1.2505 - accuracy: 0.5255 - val_loss: 1.5190 - val_accuracy: 0.4740 - 3s/epoch - 13ms/step\n",
      "Epoch 9/100\n",
      "200/200 - 3s - loss: 1.1546 - accuracy: 0.5575 - val_loss: 1.4092 - val_accuracy: 0.5020 - 3s/epoch - 14ms/step\n",
      "Epoch 10/100\n",
      "200/200 - 3s - loss: 0.9977 - accuracy: 0.6215 - val_loss: 1.4307 - val_accuracy: 0.4960 - 3s/epoch - 13ms/step\n",
      "Epoch 11/100\n",
      "200/200 - 3s - loss: 0.8673 - accuracy: 0.6675 - val_loss: 1.4262 - val_accuracy: 0.4820 - 3s/epoch - 14ms/step\n",
      "Epoch 12/100\n",
      "200/200 - 3s - loss: 0.8152 - accuracy: 0.6845 - val_loss: 1.1967 - val_accuracy: 0.6060 - 3s/epoch - 13ms/step\n",
      "Epoch 13/100\n",
      "200/200 - 2s - loss: 0.7112 - accuracy: 0.7275 - val_loss: 1.4760 - val_accuracy: 0.5540 - 2s/epoch - 12ms/step\n",
      "Epoch 14/100\n",
      "200/200 - 3s - loss: 0.7318 - accuracy: 0.7295 - val_loss: 1.3560 - val_accuracy: 0.5620 - 3s/epoch - 13ms/step\n",
      "Epoch 15/100\n",
      "200/200 - 2s - loss: 0.6538 - accuracy: 0.7540 - val_loss: 1.3852 - val_accuracy: 0.5880 - 2s/epoch - 12ms/step\n",
      "Epoch 16/100\n",
      "200/200 - 2s - loss: 0.5554 - accuracy: 0.7850 - val_loss: 1.7771 - val_accuracy: 0.5360 - 2s/epoch - 12ms/step\n",
      "Epoch 17/100\n",
      "200/200 - 3s - loss: 0.5607 - accuracy: 0.7725 - val_loss: 1.4172 - val_accuracy: 0.5660 - 3s/epoch - 13ms/step\n"
     ]
    }
   ],
   "source": [
    "# Train the model\n",
    "hist = model.fit(x, y, epochs=100, validation_split=0.2, verbose=2, batch_size=10,\n",
    "                 callbacks=[checkpt, tb, e_stop])"
   ]
  },
  {
   "cell_type": "code",
   "execution_count": 26,
   "metadata": {},
   "outputs": [
    {
     "data": {
      "text/plain": [
       "<keras.src.callbacks.History at 0x7f11043a03a0>"
      ]
     },
     "execution_count": 26,
     "metadata": {},
     "output_type": "execute_result"
    }
   ],
   "source": [
    "hist"
   ]
  },
  {
   "cell_type": "code",
   "execution_count": 27,
   "metadata": {},
   "outputs": [
    {
     "data": {
      "text/plain": [
       "array([[[ 1.08076750e-04,  1.01870045e+00,  1.08076750e-04,\n",
       "          1.01870045e+00],\n",
       "        [ 4.42904448e-05,  1.28538804e+00,  5.94555153e-05,\n",
       "          1.97471394e+00],\n",
       "        [ 8.74050900e-05,  1.44213454e+00,  1.25916271e-04,\n",
       "          1.88159721e+00],\n",
       "        ...,\n",
       "        [ 8.28050646e-05,  1.39699292e+00,  1.65960374e-05,\n",
       "          1.36212905e+00],\n",
       "        [ 1.04290609e-04,  1.14690697e+00,  4.72581306e-05,\n",
       "         -1.34090641e+00],\n",
       "        [ 6.32920351e-05,  1.61672051e+00,  2.57099842e-06,\n",
       "          3.62733067e-01]],\n",
       "\n",
       "       [[ 1.17724821e-04,  2.51694027e+00,  1.17724821e-04,\n",
       "          2.51694027e+00],\n",
       "        [ 2.19011982e-05,  9.45554382e-01,  6.24418198e-05,\n",
       "          2.13456030e+00],\n",
       "        [ 7.61177809e-05,  2.68045645e+00,  9.46687902e-05,\n",
       "          2.53244505e+00],\n",
       "        ...,\n",
       "        [ 6.71488245e-05, -1.82834976e+00,  3.22575391e-05,\n",
       "          1.50348094e+00],\n",
       "        [ 3.49400527e-05, -5.00702072e-02,  7.36711109e-05,\n",
       "          1.57535457e+00],\n",
       "        [ 2.81891101e-05,  1.37828912e+00,  5.00114389e-05,\n",
       "         -6.11498102e-01]],\n",
       "\n",
       "       [[ 1.12620137e-04,  1.05732659e+00,  1.12620137e-04,\n",
       "          1.05732659e+00],\n",
       "        [ 8.93931510e-05, -2.83983060e+00,  9.42951423e-05,\n",
       "         -1.65545091e-02],\n",
       "        [ 1.05524823e-04, -6.52217533e-01,  8.85123870e-05,\n",
       "         -1.12787061e+00],\n",
       "        ...,\n",
       "        [ 9.29158950e-05, -2.94740495e+00,  1.04235889e-05,\n",
       "          2.66712312e+00],\n",
       "        [ 9.39833231e-05, -4.63276764e-01,  1.46611766e-05,\n",
       "         -1.65044754e+00],\n",
       "        [ 1.16769400e-04,  1.92956213e+00,  4.25486067e-06,\n",
       "          1.84783542e+00]],\n",
       "\n",
       "       ...,\n",
       "\n",
       "       [[ 1.55893130e-04,  1.08028326e+00,  1.55893130e-04,\n",
       "          1.08028326e+00],\n",
       "        [ 2.91904186e-05, -1.61322499e-01,  1.35463746e-05,\n",
       "         -1.85235130e+00],\n",
       "        [ 2.66740039e-05, -2.62780311e+00,  1.43717359e-04,\n",
       "          1.79848272e+00],\n",
       "        ...,\n",
       "        [ 5.57094661e-05,  3.14097409e+00,  1.02580955e-04,\n",
       "          2.27501000e+00],\n",
       "        [ 1.79283519e-05, -6.17992442e-01,  3.81642114e-05,\n",
       "         -2.29799349e+00],\n",
       "        [ 5.58978879e-05,  3.12903117e+00,  8.16591173e-05,\n",
       "          1.90377910e+00]],\n",
       "\n",
       "       [[ 1.65341922e-03, -2.01181196e+00,  1.65341922e-03,\n",
       "         -2.01181196e+00],\n",
       "        [ 1.28664944e-03, -2.22578721e+00,  1.37653861e-03,\n",
       "         -1.88358048e+00],\n",
       "        [ 8.66153269e-04, -2.78876462e+00,  5.80533724e-04,\n",
       "         -2.05285639e+00],\n",
       "        ...,\n",
       "        [ 6.25663357e-04, -2.05384614e+00,  7.72792827e-04,\n",
       "         -2.69147893e+00],\n",
       "        [ 7.15144597e-04, -1.46512004e+00,  1.50602928e-03,\n",
       "          2.02372375e-01],\n",
       "        [ 2.34880649e-04, -2.82177238e+00,  1.27152579e-03,\n",
       "          7.80443027e-01]],\n",
       "\n",
       "       [[ 4.87249283e-06, -2.39085247e+00,  4.87249283e-06,\n",
       "         -2.39085247e+00],\n",
       "        [ 4.69757997e-06, -2.02873313e+00,  4.75142730e-06,\n",
       "          8.62338505e-01],\n",
       "        [ 4.44451033e-06, -1.73735223e+00,  5.04094391e-06,\n",
       "         -2.05921579e+00],\n",
       "        ...,\n",
       "        [ 2.53737582e-07, -1.70015762e+00,  1.75262778e-07,\n",
       "          2.26046599e+00],\n",
       "        [ 2.82877869e-07,  9.84735751e-01,  2.52072536e-07,\n",
       "          3.01726702e+00],\n",
       "        [ 2.95568461e-07, -2.31193429e+00,  2.33213659e-07,\n",
       "          1.17791168e+00]]])"
      ]
     },
     "execution_count": 27,
     "metadata": {},
     "output_type": "execute_result"
    }
   ],
   "source": [
    "x"
   ]
  },
  {
   "cell_type": "code",
   "execution_count": 28,
   "metadata": {},
   "outputs": [
    {
     "data": {
      "text/plain": [
       "array([13., 23.,  3., ..., 20., 21., 11.])"
      ]
     },
     "execution_count": 28,
     "metadata": {},
     "output_type": "execute_result"
    }
   ],
   "source": [
    "y"
   ]
  },
  {
   "cell_type": "code",
   "execution_count": null,
   "metadata": {},
   "outputs": [],
   "source": []
  }
 ],
 "metadata": {
  "kernelspec": {
   "display_name": "Python 3",
   "language": "python",
   "name": "python3"
  },
  "language_info": {
   "codemirror_mode": {
    "name": "ipython",
    "version": 3
   },
   "file_extension": ".py",
   "mimetype": "text/x-python",
   "name": "python",
   "nbconvert_exporter": "python",
   "pygments_lexer": "ipython3",
   "version": "3.10.12"
  },
  "orig_nbformat": 4
 },
 "nbformat": 4,
 "nbformat_minor": 2
}
