{
 "cells": [
  {
   "cell_type": "code",
   "execution_count": 70,
   "metadata": {},
   "outputs": [],
   "source": [
    "# TODO Turn this into a .py file so that the client can run it."
   ]
  },
  {
   "cell_type": "code",
   "execution_count": 71,
   "metadata": {},
   "outputs": [],
   "source": [
    "import tensorflow as tf\n",
    "import numpy as np\n",
    "import os\n",
    "from tensorflow.keras.models import Sequential, load_model\n",
    "from tensorflow.keras.layers import Conv1D, MaxPooling1D, Dense, Flatten\n",
    "from tensorflow.keras.optimizers import Adam\n",
    "from tensorflow.keras.callbacks import ModelCheckpoint, EarlyStopping, TensorBoard"
   ]
  },
  {
   "cell_type": "code",
   "execution_count": 72,
   "metadata": {},
   "outputs": [],
   "source": [
    "# Be a good neighbor. Let other people use the GPU too. \n",
    "# print(tf.config.list_physical_devices('GPU'))\n",
    "# gpus = tf.config.experimental.list_physical_devices('GPU')\n",
    "# for gpu in gpus:\n",
    "#     tf.config.experimental.set_memory_growth(gpu, True)"
   ]
  },
  {
   "cell_type": "code",
   "execution_count": 73,
   "metadata": {},
   "outputs": [],
   "source": [
    "# Load up the training data\n",
    "data_file_location = 'training_data/'\n",
    "data_file_name = 'data05_train_2500.npy'\n",
    "label_file_name = 'labels05_train_2500.npy'\n",
    "\n",
    "checkpoint_filepath = 'temp/checkpoint/pri_pw05_2500.h5'\n",
    "log_filepath = 'temp/tb_logs'\n",
    "\n",
    "data = np.load(data_file_location+data_file_name)\n",
    "labels = np.load(data_file_location+label_file_name)"
   ]
  },
  {
   "cell_type": "code",
   "execution_count": 74,
   "metadata": {},
   "outputs": [
    {
     "data": {
      "text/plain": [
       "array([[ 20.46445969],\n",
       "       [  1.03019979],\n",
       "       [516.24528685],\n",
       "       ...,\n",
       "       [  9.15448828],\n",
       "       [  3.28949419],\n",
       "       [  1.07613222]])"
      ]
     },
     "execution_count": 74,
     "metadata": {},
     "output_type": "execute_result"
    }
   ],
   "source": [
    "x = data\n",
    "y = labels[:,0:1]\n",
    "y"
   ]
  },
  {
   "cell_type": "code",
   "execution_count": 75,
   "metadata": {},
   "outputs": [],
   "source": [
    "def build_model(input_shape,output_size):\n",
    "    model = Sequential()\n",
    "    model.add(Conv1D(10, kernel_size=5, padding='same', input_shape=input_shape, activation='relu'))\n",
    "    model.add(MaxPooling1D(pool_size=2, strides=2))\n",
    "    model.add(Conv1D(20, kernel_size=5, padding='same', activation='relu'))\n",
    "    model.add(MaxPooling1D(pool_size=2, strides=2))\n",
    "    model.add(Conv1D(30, kernel_size=5, padding='same', activation='relu'))\n",
    "    model.add(MaxPooling1D(pool_size=2, strides=2))\n",
    "    model.add(Conv1D(40, kernel_size=5, padding='same', activation='relu'))\n",
    "    model.add(MaxPooling1D(pool_size=2, strides=2))\n",
    "    model.add(Conv1D(50, kernel_size=5, padding='same', activation='relu'))\n",
    "    model.add(MaxPooling1D(pool_size=2, strides=2))\n",
    "    model.add(Conv1D(60, kernel_size=3, padding='same', activation='relu'))\n",
    "    model.add(MaxPooling1D(pool_size=2, strides=2))\n",
    "    model.add(Conv1D(70, kernel_size=3, padding='same', activation='relu'))\n",
    "    model.add(MaxPooling1D(pool_size=2, strides=2))\n",
    "    model.add(Conv1D(80, kernel_size=3, padding='same', activation='relu'))\n",
    "    model.add(MaxPooling1D(pool_size=2, strides=2))\n",
    "    model.add(Conv1D(90, kernel_size=3, padding='same', activation='relu'))\n",
    "    model.add(MaxPooling1D(pool_size=2, strides=2))\n",
    "    model.add(Flatten())\n",
    "    model.add(Dense(200, activation='relu'))\n",
    "    model.add(Dense(output_size, activation='relu'))\n",
    "    return model\n",
    "    "
   ]
  },
  {
   "cell_type": "code",
   "execution_count": 76,
   "metadata": {},
   "outputs": [],
   "source": [
    "def build_simple_model(input_shape, output_size):\n",
    "    model = Sequential()\n",
    "    model.add(Conv1D(1, kernel_size=3, padding='same', input_shape=input_shape, activation='relu'))\n",
    "    model.add(Flatten())\n",
    "    model.add(Dense(output_size, activation='softmax'))\n",
    "    return model"
   ]
  },
  {
   "cell_type": "code",
   "execution_count": 77,
   "metadata": {},
   "outputs": [
    {
     "name": "stdout",
     "output_type": "stream",
     "text": [
      "Model: \"sequential_6\"\n",
      "_________________________________________________________________\n",
      " Layer (type)                Output Shape              Param #   \n",
      "=================================================================\n",
      " conv1d_54 (Conv1D)          (None, 1024, 10)          410       \n",
      "                                                                 \n",
      " max_pooling1d_54 (MaxPooli  (None, 512, 10)           0         \n",
      " ng1D)                                                           \n",
      "                                                                 \n",
      " conv1d_55 (Conv1D)          (None, 512, 20)           1020      \n",
      "                                                                 \n",
      " max_pooling1d_55 (MaxPooli  (None, 256, 20)           0         \n",
      " ng1D)                                                           \n",
      "                                                                 \n",
      " conv1d_56 (Conv1D)          (None, 256, 30)           3030      \n",
      "                                                                 \n",
      " max_pooling1d_56 (MaxPooli  (None, 128, 30)           0         \n",
      " ng1D)                                                           \n",
      "                                                                 \n",
      " conv1d_57 (Conv1D)          (None, 128, 40)           6040      \n",
      "                                                                 \n",
      " max_pooling1d_57 (MaxPooli  (None, 64, 40)            0         \n",
      " ng1D)                                                           \n",
      "                                                                 \n",
      " conv1d_58 (Conv1D)          (None, 64, 50)            10050     \n",
      "                                                                 \n",
      " max_pooling1d_58 (MaxPooli  (None, 32, 50)            0         \n",
      " ng1D)                                                           \n",
      "                                                                 \n",
      " conv1d_59 (Conv1D)          (None, 32, 60)            9060      \n",
      "                                                                 \n",
      " max_pooling1d_59 (MaxPooli  (None, 16, 60)            0         \n",
      " ng1D)                                                           \n",
      "                                                                 \n",
      " conv1d_60 (Conv1D)          (None, 16, 70)            12670     \n",
      "                                                                 \n",
      " max_pooling1d_60 (MaxPooli  (None, 8, 70)             0         \n",
      " ng1D)                                                           \n",
      "                                                                 \n",
      " conv1d_61 (Conv1D)          (None, 8, 80)             16880     \n",
      "                                                                 \n",
      " max_pooling1d_61 (MaxPooli  (None, 4, 80)             0         \n",
      " ng1D)                                                           \n",
      "                                                                 \n",
      " conv1d_62 (Conv1D)          (None, 4, 90)             21690     \n",
      "                                                                 \n",
      " max_pooling1d_62 (MaxPooli  (None, 2, 90)             0         \n",
      " ng1D)                                                           \n",
      "                                                                 \n",
      " flatten_6 (Flatten)         (None, 180)               0         \n",
      "                                                                 \n",
      " dense_12 (Dense)            (None, 200)               36200     \n",
      "                                                                 \n",
      " dense_13 (Dense)            (None, 2)                 402       \n",
      "                                                                 \n",
      "=================================================================\n",
      "Total params: 117452 (458.80 KB)\n",
      "Trainable params: 117452 (458.80 KB)\n",
      "Non-trainable params: 0 (0.00 Byte)\n",
      "_________________________________________________________________\n"
     ]
    }
   ],
   "source": [
    "model = build_model(input_shape=(1024,8),output_size=2)\n",
    "model.summary()"
   ]
  },
  {
   "cell_type": "code",
   "execution_count": 78,
   "metadata": {},
   "outputs": [],
   "source": [
    "# Compile the model\n",
    "model.compile(loss='MSE', optimizer='Adam', metrics=['accuracy'])"
   ]
  },
  {
   "cell_type": "code",
   "execution_count": 79,
   "metadata": {},
   "outputs": [],
   "source": [
    "# Setup the callbacks\n",
    "checkpt = ModelCheckpoint(checkpoint_filepath, save_best_only=True, verbose=0)\n",
    "tb = TensorBoard(log_dir=log_filepath)\n",
    "e_stop = EarlyStopping(patience=5)"
   ]
  },
  {
   "cell_type": "code",
   "execution_count": 81,
   "metadata": {},
   "outputs": [
    {
     "name": "stdout",
     "output_type": "stream",
     "text": [
      "Epoch 1/100\n",
      "20/20 - 1s - loss: 378.5054 - accuracy: 0.0000e+00 - val_loss: 2069.3992 - val_accuracy: 0.0000e+00 - 820ms/epoch - 41ms/step\n",
      "Epoch 2/100\n",
      "20/20 - 0s - loss: 336.4480 - accuracy: 0.0000e+00 - val_loss: 1986.4490 - val_accuracy: 0.0000e+00 - 445ms/epoch - 22ms/step\n",
      "Epoch 3/100\n",
      "20/20 - 0s - loss: 361.8167 - accuracy: 0.0000e+00 - val_loss: 1925.8274 - val_accuracy: 0.0000e+00 - 438ms/epoch - 22ms/step\n",
      "Epoch 4/100\n",
      "20/20 - 1s - loss: 267.2532 - accuracy: 0.0000e+00 - val_loss: 1469.8716 - val_accuracy: 0.0000e+00 - 517ms/epoch - 26ms/step\n",
      "Epoch 5/100\n",
      "20/20 - 1s - loss: 239.4588 - accuracy: 0.0000e+00 - val_loss: 1204.7592 - val_accuracy: 0.0000e+00 - 519ms/epoch - 26ms/step\n",
      "Epoch 6/100\n",
      "20/20 - 0s - loss: 233.1794 - accuracy: 0.0000e+00 - val_loss: 1472.3093 - val_accuracy: 0.0000e+00 - 440ms/epoch - 22ms/step\n",
      "Epoch 7/100\n",
      "20/20 - 0s - loss: 211.1326 - accuracy: 0.0000e+00 - val_loss: 1622.6947 - val_accuracy: 0.0000e+00 - 401ms/epoch - 20ms/step\n",
      "Epoch 8/100\n",
      "20/20 - 0s - loss: 307.3810 - accuracy: 0.0000e+00 - val_loss: 2420.5415 - val_accuracy: 0.0000e+00 - 396ms/epoch - 20ms/step\n",
      "Epoch 9/100\n",
      "20/20 - 0s - loss: 563.0926 - accuracy: 0.0000e+00 - val_loss: 2117.8875 - val_accuracy: 0.0000e+00 - 402ms/epoch - 20ms/step\n",
      "Epoch 10/100\n",
      "20/20 - 0s - loss: 374.2388 - accuracy: 0.0000e+00 - val_loss: 1767.3400 - val_accuracy: 0.0000e+00 - 389ms/epoch - 19ms/step\n"
     ]
    }
   ],
   "source": [
    "# Train the model\n",
    "hist = model.fit(x, y, epochs=100, validation_split=0.2, verbose=2, batch_size=100,\n",
    "                 callbacks=[checkpt, tb, e_stop])"
   ]
  },
  {
   "cell_type": "code",
   "execution_count": null,
   "metadata": {},
   "outputs": [],
   "source": []
  }
 ],
 "metadata": {
  "kernelspec": {
   "display_name": "Python 3",
   "language": "python",
   "name": "python3"
  },
  "language_info": {
   "codemirror_mode": {
    "name": "ipython",
    "version": 3
   },
   "file_extension": ".py",
   "mimetype": "text/x-python",
   "name": "python",
   "nbconvert_exporter": "python",
   "pygments_lexer": "ipython3",
   "version": "3.10.12"
  },
  "orig_nbformat": 4
 },
 "nbformat": 4,
 "nbformat_minor": 2
}
