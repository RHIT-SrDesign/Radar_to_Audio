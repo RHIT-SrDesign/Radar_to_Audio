{
 "cells": [
  {
   "cell_type": "code",
   "execution_count": 23,
   "metadata": {},
   "outputs": [],
   "source": [
    "# TODO Turn this into a .py file so that the client can run it."
   ]
  },
  {
   "cell_type": "code",
   "execution_count": 24,
   "metadata": {},
   "outputs": [],
   "source": [
    "import tensorflow as tf\n",
    "import numpy as np\n",
    "import os\n",
    "from tensorflow.keras.models import Sequential, load_model\n",
    "from tensorflow.keras.layers import Conv1D, MaxPooling1D, Dense, Flatten\n",
    "from tensorflow.keras.optimizers import Adam\n",
    "from tensorflow.keras.callbacks import ModelCheckpoint, EarlyStopping, TensorBoard"
   ]
  },
  {
   "cell_type": "code",
   "execution_count": 25,
   "metadata": {},
   "outputs": [],
   "source": [
    "# Be a good neighbor. Let other people use the GPU too. \n",
    "# print(tf.config.list_physical_devices('GPU'))\n",
    "# gpus = tf.config.experimental.list_physical_devices('GPU')\n",
    "# for gpu in gpus:\n",
    "#     tf.config.experimental.set_memory_growth(gpu, True)"
   ]
  },
  {
   "cell_type": "code",
   "execution_count": 26,
   "metadata": {},
   "outputs": [],
   "source": [
    "# Load up the training data\n",
    "data_file_location = 'training_data/'\n",
    "data_file_name = 'data03_train_2500.npy'\n",
    "label_file_name = 'labels03_train_2500.npy'\n",
    "\n",
    "checkpoint_filepath = 'temp/checkpoint/convnet03.h5'\n",
    "log_filepath = 'temp/tb_logs'\n",
    "\n",
    "data = np.load(data_file_location+data_file_name)\n",
    "labels = np.load(data_file_location+label_file_name)"
   ]
  },
  {
   "cell_type": "code",
   "execution_count": 27,
   "metadata": {},
   "outputs": [],
   "source": [
    "x = data\n",
    "y = labels[:,0]"
   ]
  },
  {
   "cell_type": "code",
   "execution_count": 28,
   "metadata": {},
   "outputs": [],
   "source": [
    "def build_model(input_shape,output_size):\n",
    "    model = Sequential()\n",
    "    model.add(Conv1D(10, kernel_size=5, padding='same', input_shape=input_shape, activation='relu'))\n",
    "    model.add(MaxPooling1D(pool_size=2, strides=2))\n",
    "    model.add(Conv1D(20, kernel_size=5, padding='same', activation='relu'))\n",
    "    model.add(MaxPooling1D(pool_size=2, strides=2))\n",
    "    model.add(Conv1D(30, kernel_size=5, padding='same', activation='relu'))\n",
    "    model.add(MaxPooling1D(pool_size=2, strides=2))\n",
    "    model.add(Conv1D(40, kernel_size=5, padding='same', activation='relu'))\n",
    "    model.add(MaxPooling1D(pool_size=2, strides=2))\n",
    "    model.add(Conv1D(50, kernel_size=5, padding='same', activation='relu'))\n",
    "    model.add(MaxPooling1D(pool_size=2, strides=2))\n",
    "    model.add(Conv1D(60, kernel_size=3, padding='same', activation='relu'))\n",
    "    model.add(MaxPooling1D(pool_size=2, strides=2))\n",
    "    model.add(Conv1D(70, kernel_size=3, padding='same', activation='relu'))\n",
    "    model.add(MaxPooling1D(pool_size=2, strides=2))\n",
    "    model.add(Conv1D(80, kernel_size=3, padding='same', activation='relu'))\n",
    "    model.add(MaxPooling1D(pool_size=2, strides=2))\n",
    "    model.add(Conv1D(90, kernel_size=3, padding='same', activation='relu'))\n",
    "    model.add(MaxPooling1D(pool_size=2, strides=2))\n",
    "    model.add(Flatten())\n",
    "    model.add(Dense(200, activation='relu'))\n",
    "    model.add(Dense(output_size, activation='softmax'))\n",
    "    return model\n",
    "    "
   ]
  },
  {
   "cell_type": "code",
   "execution_count": 29,
   "metadata": {},
   "outputs": [],
   "source": [
    "def build_simple_model(input_shape, output_size):\n",
    "    model = Sequential()\n",
    "    model.add(Conv1D(1, kernel_size=3, padding='same', input_shape=input_shape, activation='relu'))\n",
    "    model.add(Flatten())\n",
    "    model.add(Dense(output_size, activation='softmax'))\n",
    "    return model"
   ]
  },
  {
   "cell_type": "code",
   "execution_count": 30,
   "metadata": {},
   "outputs": [
    {
     "name": "stdout",
     "output_type": "stream",
     "text": [
      "Model: \"sequential_2\"\n",
      "_________________________________________________________________\n",
      " Layer (type)                Output Shape              Param #   \n",
      "=================================================================\n",
      " conv1d_18 (Conv1D)          (None, 1024, 10)          410       \n",
      "                                                                 \n",
      " max_pooling1d_18 (MaxPooli  (None, 512, 10)           0         \n",
      " ng1D)                                                           \n",
      "                                                                 \n",
      " conv1d_19 (Conv1D)          (None, 512, 20)           1020      \n",
      "                                                                 \n",
      " max_pooling1d_19 (MaxPooli  (None, 256, 20)           0         \n",
      " ng1D)                                                           \n",
      "                                                                 \n",
      " conv1d_20 (Conv1D)          (None, 256, 30)           3030      \n",
      "                                                                 \n",
      " max_pooling1d_20 (MaxPooli  (None, 128, 30)           0         \n",
      " ng1D)                                                           \n",
      "                                                                 \n",
      " conv1d_21 (Conv1D)          (None, 128, 40)           6040      \n",
      "                                                                 \n",
      " max_pooling1d_21 (MaxPooli  (None, 64, 40)            0         \n",
      " ng1D)                                                           \n",
      "                                                                 \n",
      " conv1d_22 (Conv1D)          (None, 64, 50)            10050     \n",
      "                                                                 \n",
      " max_pooling1d_22 (MaxPooli  (None, 32, 50)            0         \n",
      " ng1D)                                                           \n",
      "                                                                 \n",
      " conv1d_23 (Conv1D)          (None, 32, 60)            9060      \n",
      "                                                                 \n",
      " max_pooling1d_23 (MaxPooli  (None, 16, 60)            0         \n",
      " ng1D)                                                           \n",
      "                                                                 \n",
      " conv1d_24 (Conv1D)          (None, 16, 70)            12670     \n",
      "                                                                 \n",
      " max_pooling1d_24 (MaxPooli  (None, 8, 70)             0         \n",
      " ng1D)                                                           \n",
      "                                                                 \n",
      " conv1d_25 (Conv1D)          (None, 8, 80)             16880     \n",
      "                                                                 \n",
      " max_pooling1d_25 (MaxPooli  (None, 4, 80)             0         \n",
      " ng1D)                                                           \n",
      "                                                                 \n",
      " conv1d_26 (Conv1D)          (None, 4, 90)             21690     \n",
      "                                                                 \n",
      " max_pooling1d_26 (MaxPooli  (None, 2, 90)             0         \n",
      " ng1D)                                                           \n",
      "                                                                 \n",
      " flatten_2 (Flatten)         (None, 180)               0         \n",
      "                                                                 \n",
      " dense_4 (Dense)             (None, 200)               36200     \n",
      "                                                                 \n",
      " dense_5 (Dense)             (None, 25)                5025      \n",
      "                                                                 \n",
      "=================================================================\n",
      "Total params: 122075 (476.86 KB)\n",
      "Trainable params: 122075 (476.86 KB)\n",
      "Non-trainable params: 0 (0.00 Byte)\n",
      "_________________________________________________________________\n"
     ]
    }
   ],
   "source": [
    "model = build_model(input_shape=(1024,8),output_size=25)\n",
    "model.summary()"
   ]
  },
  {
   "cell_type": "code",
   "execution_count": 31,
   "metadata": {},
   "outputs": [],
   "source": [
    "# Compile the model\n",
    "model.compile(loss='sparse_categorical_crossentropy', optimizer='Adam', metrics=['accuracy'])"
   ]
  },
  {
   "cell_type": "code",
   "execution_count": 32,
   "metadata": {},
   "outputs": [],
   "source": [
    "# Setup the callbacks\n",
    "checkpt = ModelCheckpoint(checkpoint_filepath, save_best_only=True, verbose=0)\n",
    "tb = TensorBoard(log_dir=log_filepath)\n",
    "e_stop = EarlyStopping(patience=5)"
   ]
  },
  {
   "cell_type": "code",
   "execution_count": 37,
   "metadata": {},
   "outputs": [
    {
     "name": "stdout",
     "output_type": "stream",
     "text": [
      "Epoch 1/100\n",
      "20/20 - 1s - loss: 0.0530 - accuracy: 0.9830 - val_loss: 3.0080 - val_accuracy: 0.6320 - 907ms/epoch - 45ms/step\n",
      "Epoch 2/100\n",
      "20/20 - 1s - loss: 0.0502 - accuracy: 0.9810 - val_loss: 2.8739 - val_accuracy: 0.6360 - 542ms/epoch - 27ms/step\n",
      "Epoch 3/100\n",
      "20/20 - 1s - loss: 0.0445 - accuracy: 0.9840 - val_loss: 2.9990 - val_accuracy: 0.6300 - 516ms/epoch - 26ms/step\n",
      "Epoch 4/100\n",
      "20/20 - 0s - loss: 0.0427 - accuracy: 0.9835 - val_loss: 3.1084 - val_accuracy: 0.6220 - 467ms/epoch - 23ms/step\n",
      "Epoch 5/100\n",
      "20/20 - 1s - loss: 0.0408 - accuracy: 0.9860 - val_loss: 3.1154 - val_accuracy: 0.6080 - 582ms/epoch - 29ms/step\n",
      "Epoch 6/100\n",
      "20/20 - 0s - loss: 0.0381 - accuracy: 0.9885 - val_loss: 3.2186 - val_accuracy: 0.6280 - 471ms/epoch - 24ms/step\n",
      "Epoch 7/100\n",
      "20/20 - 1s - loss: 0.0273 - accuracy: 0.9915 - val_loss: 3.4940 - val_accuracy: 0.6120 - 501ms/epoch - 25ms/step\n"
     ]
    }
   ],
   "source": [
    "# Train the model\n",
    "hist = model.fit(x, y, epochs=100, validation_split=0.2, verbose=2, batch_size=100,\n",
    "                 callbacks=[checkpt, tb, e_stop])"
   ]
  },
  {
   "cell_type": "code",
   "execution_count": null,
   "metadata": {},
   "outputs": [],
   "source": []
  }
 ],
 "metadata": {
  "kernelspec": {
   "display_name": "Python 3",
   "language": "python",
   "name": "python3"
  },
  "language_info": {
   "codemirror_mode": {
    "name": "ipython",
    "version": 3
   },
   "file_extension": ".py",
   "mimetype": "text/x-python",
   "name": "python",
   "nbconvert_exporter": "python",
   "pygments_lexer": "ipython3",
   "version": "3.10.12"
  },
  "orig_nbformat": 4
 },
 "nbformat": 4,
 "nbformat_minor": 2
}
