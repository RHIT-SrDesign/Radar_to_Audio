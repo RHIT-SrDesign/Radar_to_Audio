{
 "cells": [
  {
   "cell_type": "code",
   "execution_count": 32,
   "metadata": {},
   "outputs": [],
   "source": [
    "# TODO Turn this into a .py file so that the client can run it."
   ]
  },
  {
   "cell_type": "code",
   "execution_count": 33,
   "metadata": {},
   "outputs": [],
   "source": [
    "import tensorflow as tf\n",
    "import numpy as np\n",
    "import os\n",
    "from tensorflow.keras.models import Sequential, load_model\n",
    "from tensorflow.keras.layers import Conv1D, MaxPooling1D, Dense, Flatten\n",
    "from tensorflow.keras.optimizers import Adam\n",
    "from tensorflow.keras.callbacks import ModelCheckpoint, EarlyStopping, TensorBoard"
   ]
  },
  {
   "cell_type": "code",
   "execution_count": 34,
   "metadata": {},
   "outputs": [],
   "source": [
    "# Be a good neighbor. Let other people use the GPU too. \n",
    "# print(tf.config.list_physical_devices('GPU'))\n",
    "# gpus = tf.config.experimental.list_physical_devices('GPU')\n",
    "# for gpu in gpus:\n",
    "#     tf.config.experimental.set_memory_growth(gpu, True)"
   ]
  },
  {
   "cell_type": "code",
   "execution_count": 35,
   "metadata": {},
   "outputs": [],
   "source": [
    "# Load up the training data\n",
    "data_file_location = 'training_data/'\n",
    "data_file_name = 'data04_train_2500.npy'\n",
    "label_file_name = 'labels04_train_2500.npy'\n",
    "\n",
    "checkpoint_filepath = 'temp/checkpoint/modclass04_2500.h5'\n",
    "log_filepath = 'temp/tb_logs'\n",
    "\n",
    "data = np.load(data_file_location+data_file_name)\n",
    "labels = np.load(data_file_location+label_file_name)"
   ]
  },
  {
   "cell_type": "code",
   "execution_count": 36,
   "metadata": {},
   "outputs": [],
   "source": [
    "x = data\n",
    "y = labels[:,2]"
   ]
  },
  {
   "cell_type": "code",
   "execution_count": 37,
   "metadata": {},
   "outputs": [],
   "source": [
    "def build_model(input_shape,output_size):\n",
    "    model = Sequential()\n",
    "    model.add(Conv1D(10, kernel_size=5, padding='same', input_shape=input_shape, activation='relu'))\n",
    "    model.add(MaxPooling1D(pool_size=2, strides=2))\n",
    "    model.add(Conv1D(20, kernel_size=5, padding='same', activation='relu'))\n",
    "    model.add(MaxPooling1D(pool_size=2, strides=2))\n",
    "    model.add(Conv1D(30, kernel_size=5, padding='same', activation='relu'))\n",
    "    model.add(MaxPooling1D(pool_size=2, strides=2))\n",
    "    model.add(Conv1D(40, kernel_size=5, padding='same', activation='relu'))\n",
    "    model.add(MaxPooling1D(pool_size=2, strides=2))\n",
    "    model.add(Conv1D(50, kernel_size=5, padding='same', activation='relu'))\n",
    "    model.add(MaxPooling1D(pool_size=2, strides=2))\n",
    "    model.add(Conv1D(60, kernel_size=3, padding='same', activation='relu'))\n",
    "    model.add(MaxPooling1D(pool_size=2, strides=2))\n",
    "    model.add(Conv1D(70, kernel_size=3, padding='same', activation='relu'))\n",
    "    model.add(MaxPooling1D(pool_size=2, strides=2))\n",
    "    model.add(Conv1D(80, kernel_size=3, padding='same', activation='relu'))\n",
    "    model.add(MaxPooling1D(pool_size=2, strides=2))\n",
    "    model.add(Conv1D(90, kernel_size=3, padding='same', activation='relu'))\n",
    "    model.add(MaxPooling1D(pool_size=2, strides=2))\n",
    "    model.add(Flatten())\n",
    "    model.add(Dense(200, activation='relu'))\n",
    "    model.add(Dense(output_size, activation='softmax'))\n",
    "    return model\n",
    "    "
   ]
  },
  {
   "cell_type": "code",
   "execution_count": 38,
   "metadata": {},
   "outputs": [],
   "source": [
    "def build_simple_model(input_shape, output_size):\n",
    "    model = Sequential()\n",
    "    model.add(Conv1D(1, kernel_size=3, padding='same', input_shape=input_shape, activation='relu'))\n",
    "    model.add(Flatten())\n",
    "    model.add(Dense(output_size, activation='softmax'))\n",
    "    return model"
   ]
  },
  {
   "cell_type": "code",
   "execution_count": 39,
   "metadata": {},
   "outputs": [
    {
     "name": "stdout",
     "output_type": "stream",
     "text": [
      "Model: \"sequential_2\"\n",
      "_________________________________________________________________\n",
      " Layer (type)                Output Shape              Param #   \n",
      "=================================================================\n",
      " conv1d_18 (Conv1D)          (None, 1024, 10)          410       \n",
      "                                                                 \n",
      " max_pooling1d_18 (MaxPooli  (None, 512, 10)           0         \n",
      " ng1D)                                                           \n",
      "                                                                 \n",
      " conv1d_19 (Conv1D)          (None, 512, 20)           1020      \n",
      "                                                                 \n",
      " max_pooling1d_19 (MaxPooli  (None, 256, 20)           0         \n",
      " ng1D)                                                           \n",
      "                                                                 \n",
      " conv1d_20 (Conv1D)          (None, 256, 30)           3030      \n",
      "                                                                 \n",
      " max_pooling1d_20 (MaxPooli  (None, 128, 30)           0         \n",
      " ng1D)                                                           \n",
      "                                                                 \n",
      " conv1d_21 (Conv1D)          (None, 128, 40)           6040      \n",
      "                                                                 \n",
      " max_pooling1d_21 (MaxPooli  (None, 64, 40)            0         \n",
      " ng1D)                                                           \n",
      "                                                                 \n",
      " conv1d_22 (Conv1D)          (None, 64, 50)            10050     \n",
      "                                                                 \n",
      " max_pooling1d_22 (MaxPooli  (None, 32, 50)            0         \n",
      " ng1D)                                                           \n",
      "                                                                 \n",
      " conv1d_23 (Conv1D)          (None, 32, 60)            9060      \n",
      "                                                                 \n",
      " max_pooling1d_23 (MaxPooli  (None, 16, 60)            0         \n",
      " ng1D)                                                           \n",
      "                                                                 \n",
      " conv1d_24 (Conv1D)          (None, 16, 70)            12670     \n",
      "                                                                 \n",
      " max_pooling1d_24 (MaxPooli  (None, 8, 70)             0         \n",
      " ng1D)                                                           \n",
      "                                                                 \n",
      " conv1d_25 (Conv1D)          (None, 8, 80)             16880     \n",
      "                                                                 \n",
      " max_pooling1d_25 (MaxPooli  (None, 4, 80)             0         \n",
      " ng1D)                                                           \n",
      "                                                                 \n",
      " conv1d_26 (Conv1D)          (None, 4, 90)             21690     \n",
      "                                                                 \n",
      " max_pooling1d_26 (MaxPooli  (None, 2, 90)             0         \n",
      " ng1D)                                                           \n",
      "                                                                 \n",
      " flatten_2 (Flatten)         (None, 180)               0         \n",
      "                                                                 \n",
      " dense_4 (Dense)             (None, 200)               36200     \n",
      "                                                                 \n",
      " dense_5 (Dense)             (None, 3)                 603       \n",
      "                                                                 \n",
      "=================================================================\n",
      "Total params: 117653 (459.58 KB)\n",
      "Trainable params: 117653 (459.58 KB)\n",
      "Non-trainable params: 0 (0.00 Byte)\n",
      "_________________________________________________________________\n"
     ]
    }
   ],
   "source": [
    "model = build_model(input_shape=(1024,8),output_size=3)\n",
    "model.summary()"
   ]
  },
  {
   "cell_type": "code",
   "execution_count": 40,
   "metadata": {},
   "outputs": [],
   "source": [
    "# Compile the model\n",
    "model.compile(loss='sparse_categorical_crossentropy', optimizer='Adam', metrics=['accuracy'])"
   ]
  },
  {
   "cell_type": "code",
   "execution_count": 41,
   "metadata": {},
   "outputs": [],
   "source": [
    "# Setup the callbacks\n",
    "checkpt = ModelCheckpoint(checkpoint_filepath, save_best_only=True, verbose=0)\n",
    "tb = TensorBoard(log_dir=log_filepath)\n",
    "e_stop = EarlyStopping(patience=5)"
   ]
  },
  {
   "cell_type": "code",
   "execution_count": 42,
   "metadata": {},
   "outputs": [
    {
     "name": "stdout",
     "output_type": "stream",
     "text": [
      "Epoch 1/100\n",
      "20/20 - 5s - loss: 0.8718 - accuracy: 0.6565 - val_loss: 0.8670 - val_accuracy: 0.6800 - 5s/epoch - 243ms/step\n",
      "Epoch 2/100\n",
      "20/20 - 1s - loss: 0.8633 - accuracy: 0.6745 - val_loss: 0.8414 - val_accuracy: 0.6800 - 641ms/epoch - 32ms/step\n",
      "Epoch 3/100\n",
      "20/20 - 1s - loss: 0.8563 - accuracy: 0.6745 - val_loss: 0.8329 - val_accuracy: 0.6800 - 586ms/epoch - 29ms/step\n",
      "Epoch 4/100\n",
      "20/20 - 1s - loss: 0.8230 - accuracy: 0.6745 - val_loss: 0.7863 - val_accuracy: 0.6800 - 608ms/epoch - 30ms/step\n",
      "Epoch 5/100\n",
      "20/20 - 1s - loss: 0.7639 - accuracy: 0.6790 - val_loss: 0.7072 - val_accuracy: 0.7300 - 581ms/epoch - 29ms/step\n",
      "Epoch 6/100\n",
      "20/20 - 0s - loss: 0.6529 - accuracy: 0.7410 - val_loss: 0.9623 - val_accuracy: 0.6500 - 450ms/epoch - 22ms/step\n",
      "Epoch 7/100\n",
      "20/20 - 1s - loss: 0.5689 - accuracy: 0.7785 - val_loss: 0.4989 - val_accuracy: 0.8020 - 604ms/epoch - 30ms/step\n",
      "Epoch 8/100\n",
      "20/20 - 1s - loss: 0.4676 - accuracy: 0.8050 - val_loss: 0.5448 - val_accuracy: 0.7780 - 510ms/epoch - 25ms/step\n",
      "Epoch 9/100\n",
      "20/20 - 1s - loss: 0.4333 - accuracy: 0.8150 - val_loss: 0.5212 - val_accuracy: 0.7960 - 541ms/epoch - 27ms/step\n",
      "Epoch 10/100\n",
      "20/20 - 1s - loss: 0.4022 - accuracy: 0.8315 - val_loss: 0.4664 - val_accuracy: 0.8140 - 661ms/epoch - 33ms/step\n",
      "Epoch 11/100\n",
      "20/20 - 1s - loss: 0.3528 - accuracy: 0.8495 - val_loss: 0.4011 - val_accuracy: 0.8280 - 601ms/epoch - 30ms/step\n",
      "Epoch 12/100\n",
      "20/20 - 1s - loss: 0.3078 - accuracy: 0.8755 - val_loss: 0.3546 - val_accuracy: 0.8600 - 600ms/epoch - 30ms/step\n",
      "Epoch 13/100\n",
      "20/20 - 1s - loss: 0.2667 - accuracy: 0.8930 - val_loss: 0.3518 - val_accuracy: 0.8600 - 585ms/epoch - 29ms/step\n",
      "Epoch 14/100\n",
      "20/20 - 0s - loss: 0.2845 - accuracy: 0.8890 - val_loss: 0.3543 - val_accuracy: 0.8580 - 477ms/epoch - 24ms/step\n",
      "Epoch 15/100\n",
      "20/20 - 0s - loss: 0.2003 - accuracy: 0.9180 - val_loss: 0.3892 - val_accuracy: 0.8740 - 450ms/epoch - 22ms/step\n",
      "Epoch 16/100\n",
      "20/20 - 0s - loss: 0.1713 - accuracy: 0.9315 - val_loss: 0.3797 - val_accuracy: 0.8780 - 451ms/epoch - 23ms/step\n",
      "Epoch 17/100\n",
      "20/20 - 1s - loss: 0.1386 - accuracy: 0.9505 - val_loss: 0.3058 - val_accuracy: 0.8980 - 627ms/epoch - 31ms/step\n",
      "Epoch 18/100\n",
      "20/20 - 0s - loss: 0.1189 - accuracy: 0.9545 - val_loss: 0.3585 - val_accuracy: 0.8640 - 487ms/epoch - 24ms/step\n",
      "Epoch 19/100\n",
      "20/20 - 0s - loss: 0.0830 - accuracy: 0.9690 - val_loss: 0.3894 - val_accuracy: 0.8880 - 434ms/epoch - 22ms/step\n",
      "Epoch 20/100\n",
      "20/20 - 0s - loss: 0.0727 - accuracy: 0.9755 - val_loss: 0.6238 - val_accuracy: 0.8660 - 445ms/epoch - 22ms/step\n",
      "Epoch 21/100\n",
      "20/20 - 0s - loss: 0.1952 - accuracy: 0.9330 - val_loss: 0.7205 - val_accuracy: 0.8340 - 444ms/epoch - 22ms/step\n",
      "Epoch 22/100\n",
      "20/20 - 0s - loss: 0.2819 - accuracy: 0.9020 - val_loss: 0.3549 - val_accuracy: 0.8780 - 486ms/epoch - 24ms/step\n"
     ]
    }
   ],
   "source": [
    "# Train the model\n",
    "hist = model.fit(x, y, epochs=100, validation_split=0.2, verbose=2, batch_size=100,\n",
    "                 callbacks=[checkpt, tb, e_stop])"
   ]
  },
  {
   "cell_type": "code",
   "execution_count": null,
   "metadata": {},
   "outputs": [],
   "source": []
  }
 ],
 "metadata": {
  "kernelspec": {
   "display_name": "Python 3",
   "language": "python",
   "name": "python3"
  },
  "language_info": {
   "codemirror_mode": {
    "name": "ipython",
    "version": 3
   },
   "file_extension": ".py",
   "mimetype": "text/x-python",
   "name": "python",
   "nbconvert_exporter": "python",
   "pygments_lexer": "ipython3",
   "version": "3.10.12"
  },
  "orig_nbformat": 4
 },
 "nbformat": 4,
 "nbformat_minor": 2
}
